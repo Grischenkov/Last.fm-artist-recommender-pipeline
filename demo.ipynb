{
 "cells": [
  {
   "cell_type": "code",
   "execution_count": 322,
   "metadata": {},
   "outputs": [],
   "source": [
    "import os\n",
    "import json\n",
    "import boto3\n",
    "import pickle\n",
    "import requests\n",
    "import implicit\n",
    "import numpy as np\n",
    "import pandas as pd\n",
    "\n",
    "from datetime import datetime\n",
    "from scipy.sparse import csr_matrix\n",
    "from sklearn.preprocessing import normalize"
   ]
  },
  {
   "cell_type": "code",
   "execution_count": 324,
   "metadata": {},
   "outputs": [],
   "source": [
    "def precision(actual, predicted):\n",
    "    return len(list(set(actual) & set(predicted))) / len(predicted)\n",
    "\n",
    "def mean_precision(scores, n):\n",
    "    return np.array(scores).sum() / n"
   ]
  },
  {
   "cell_type": "code",
   "execution_count": 280,
   "metadata": {},
   "outputs": [],
   "source": [
    "def download_file(bucket, filename):\n",
    "    s3 = boto3.client(\n",
    "        service_name='s3',\n",
    "        endpoint_url='https://s3.storage.selcloud.ru'\n",
    "    )\n",
    "    return s3.get_object(Bucket=bucket, Key=filename)\n",
    "\n",
    "def upload_file(bucket, filename, filepath):\n",
    "    s3 = boto3.client(\n",
    "        service_name='s3',\n",
    "        endpoint_url='https://s3.storage.selcloud.ru'\n",
    "    )\n",
    "    s3.upload_file(filename, bucket, filepath)\n",
    "\n",
    "def get_file_last_update_date(bucket, filename):\n",
    "    s3 = boto3.client(\n",
    "        service_name='s3',\n",
    "        endpoint_url='https://s3.storage.selcloud.ru'\n",
    "    )\n",
    "    return s3.get_object(Bucket=bucket, Key=filename)['LastModified']"
   ]
  },
  {
   "cell_type": "code",
   "execution_count": 334,
   "metadata": {},
   "outputs": [],
   "source": [
    "def get_json(bucket, name):\n",
    "    return json.load(download_file(bucket, name)['Body'])\n",
    "\n",
    "def set_json(data, bucket, name):\n",
    "    with open(name, 'w') as file:\n",
    "        json.dump(data, file)\n",
    "    upload_file(bucket, name, name)\n",
    "    # os.remove(name)"
   ]
  },
  {
   "cell_type": "code",
   "execution_count": 249,
   "metadata": {},
   "outputs": [],
   "source": [
    "def get_csv(bucket, filename):\n",
    "    return pd.read_csv(download_file(bucket, filename)['Body'])"
   ]
  },
  {
   "cell_type": "code",
   "execution_count": 250,
   "metadata": {},
   "outputs": [],
   "source": [
    "def get_pickle(bucket, filename):\n",
    "    return pickle.load(download_file(bucket, filename)['Body'])"
   ]
  },
  {
   "cell_type": "code",
   "execution_count": 359,
   "metadata": {},
   "outputs": [],
   "source": [
    "def validate_storage(bucket):\n",
    "    try:\n",
    "        config = get_json(bucket, 'config.json')\n",
    "    except:\n",
    "        config = {\n",
    "            \"LastModified\": None, \n",
    "            \"ActualModel\": None, \n",
    "            \"ActualScore\": None, \n",
    "            \"IsActual\": False\n",
    "        }\n",
    "        set_json(config, bucket, 'config.json')\n",
    "    try:\n",
    "        models = get_json(bucket, 'models.json')\n",
    "    except:\n",
    "        models = {\n",
    "            \"models\":[\n",
    "            ]\n",
    "        }\n",
    "        set_json(models, bucket, 'models.json')\n",
    "\n",
    "def check_for_updates(bucket):\n",
    "    config = get_json(bucket, 'config.json')\n",
    "    last_update_date = max([\n",
    "            get_file_last_update_date(bucket, 'data/raw/lastfm_artist_list.csv'), \n",
    "            get_file_last_update_date(bucket, 'data/raw/lastfm_user_scrobbles.csv')\n",
    "        ]\n",
    "    ).strftime('%m.%d.%Y_%H:%M:%S')\n",
    "    if config['LastModified'] != last_update_date:\n",
    "        config['LastModified'] = last_update_date\n",
    "        config['IsActual'] = False\n",
    "        set_json(config, bucket, 'config.json')\n",
    "\n",
    "def process_scrobbles(config, bucket):\n",
    "    scrobbles = get_csv(bucket, 'data/raw/lastfm_user_scrobbles.csv')\n",
    "    scrobbles.drop_duplicates(['user_id', 'artist_id'], inplace=True)\n",
    "    users_indexes, users_positions = np.unique(scrobbles.values[:,0], return_inverse=True)\n",
    "    artists_indexes, artists_positions = np.unique(scrobbles.values[:,1], return_inverse=True)\n",
    "    scrobbles_sparse = csr_matrix((scrobbles.values[:,2], (users_positions, artists_positions)))\n",
    "    scrobbles_sparse_normalized = normalize(scrobbles_sparse, norm='l2', axis=1)\n",
    "    pickle.dump(scrobbles.groupby('user_id')['artist_id'].apply(list).to_dict(), open(f\"data/{config['LastModified']}/scrobbles.pkl\", 'wb'))\n",
    "    pickle.dump(scrobbles_sparse_normalized, open(f\"data/{config['LastModified']}/scrobbles_sparse_normalized.pkl\", 'wb'))\n",
    "def process_data(bucket):\n",
    "    config = get_json(bucket, 'config.json')\n",
    "    if config['IsActual'] == False:\n",
    "        os.makedirs(f\"data/{config['LastModified']}/\", exist_ok=True)\n",
    "        process_scrobbles(config, bucket)\n",
    "\n",
    "def upload_scrobbles(config, bucket):\n",
    "    upload_file(bucket, f\"data/{config['LastModified']}/scrobbles.pkl\", f\"data/{config['LastModified']}/scrobbles.pkl\")\n",
    "    # os.remove(f\"data/{config['LastModified']}/scrobbles.pkl\")\n",
    "    upload_file(bucket, f\"data/{config['LastModified']}/scrobbles_sparse_normalized.pkl\", f\"data/{config['LastModified']}/scrobbles_sparse_normalized.pkl\")\n",
    "    # os.remove(f\"data/{config['LastModified']}/scrobbles_sparse_normalized.pkl\")\n",
    "def upload_processed_data(bucket):\n",
    "    config = get_json(bucket, 'config.json')\n",
    "    if config['IsActual'] == False:\n",
    "        upload_scrobbles(config, bucket)\n",
    "        # os.rmdir(f\"data/{config['LastModified']}\")\n",
    "\n",
    "def download_scrobbles(config, bucket):\n",
    "    pickle.dump(get_pickle(bucket, f\"data/{config['LastModified']}/scrobbles.pkl\"), open('data/actual/scrobbles.pkl', 'wb'))\n",
    "    pickle.dump(get_pickle(bucket, f\"data/{config['LastModified']}/scrobbles_sparse_normalized.pkl\"), open('data/actual/scrobbles_sparse_normalized.pkl', 'wb'))\n",
    "def load_data(bucket):\n",
    "    config = get_json(bucket, 'config.json')\n",
    "    os.makedirs(f\"data/actual/\", exist_ok=True)\n",
    "    download_scrobbles(config, bucket)\n",
    "\n",
    "def train(bucket, name):\n",
    "    model = eval(name)\n",
    "    model.fit(pickle.load(open('data/actual/scrobbles_sparse_normalized.pkl', 'rb')))\n",
    "    pickle.dump(model, open(f\"models/{name}.pkl\", 'wb'))\n",
    "    config = get_json(bucket, 'config.json')\n",
    "    config['IsActual'] = False\n",
    "    set_json(config, bucket, 'config.json')\n",
    "\n",
    "def get_k_similar(model, target, k):\n",
    "    indices, distances = model.similar_items(target-1, N=5, filter_items=[target-1])\n",
    "    return [x+1 for x in indices]\n",
    "def evaluate(bucket, name):\n",
    "    validation = pickle.load(open('data/actual/scrobbles.pkl', 'rb'))\n",
    "    model = pickle.load(open(f\"models/{name}.pkl\", 'rb'))\n",
    "    models = get_json(bucket, 'models.json')\n",
    "    scores = []\n",
    "    users = 0\n",
    "    for user in validation:\n",
    "        if len(validation[user]) <= 1:\n",
    "            continue\n",
    "        predictions = []\n",
    "        for artist in validation[user]:\n",
    "            predictions += get_k_similar(model, artist, 5)\n",
    "        scores.append(precision(validation[user], predictions))\n",
    "        users += 1\n",
    "    score = mean_precision(scores, users)\n",
    "    now = datetime.now().strftime('%m.%d.%Y_%H:%M:%S')\n",
    "    models['models'].append({\n",
    "        \"name\":name,\n",
    "        \"score\":score,\n",
    "        \"date\":now\n",
    "    })\n",
    "    upload_file(bucket, f\"models/{name}.pkl\", f\"models/{name}.pkl\")\n",
    "    set_json(models, bucket, 'models.json')\n",
    "\n",
    "def select_best_model(bucket):\n",
    "    config = get_json(bucket, 'config.json')\n",
    "    models = get_json(bucket, 'models.json')\n",
    "    best_score = 0\n",
    "    best_model = ''\n",
    "    for model in models['models']:\n",
    "        if model['date'] > config['LastModified']:\n",
    "            if model['score'] > best_score:\n",
    "                best_score = model['score']\n",
    "                best_model = model['name']\n",
    "    config['ActualModel'] = best_model\n",
    "    config['ActualScore'] = best_score\n",
    "    config['IsActual'] = True\n",
    "    set_json(config, bucket, 'config.json')\n",
    "\n",
    "def update_server():\n",
    "    requests.post(f\"http://http://87.239.106.15:8080/update\")"
   ]
  },
  {
   "cell_type": "code",
   "execution_count": 360,
   "metadata": {},
   "outputs": [
    {
     "name": "stderr",
     "output_type": "stream",
     "text": [
      "100%|██████████| 15/15 [00:07<00:00,  1.96it/s]\n",
      "/Users/grshchnkv/opt/anaconda3/envs/LastFM-artist-recommender/lib/python3.10/site-packages/implicit/utils.py:138: ParameterWarning: Method expects CSR input, and was passed coo_matrix instead. Converting to CSR took 0.0011570453643798828 seconds\n",
      "  warnings.warn(\n",
      "100%|██████████| 17493/17493 [00:00<00:00, 191303.86it/s]\n"
     ]
    }
   ],
   "source": [
    "bucket = 'LastFM-artist-recommender'\n",
    "\n",
    "validate_storage(bucket)\n",
    "\n",
    "check_for_updates(bucket)\n",
    "\n",
    "process_data(bucket)\n",
    "\n",
    "upload_processed_data(bucket)\n",
    "\n",
    "load_data(bucket)\n",
    "\n",
    "model1 = 'implicit.als.AlternatingLeastSquares(factors=64)'\n",
    "train(bucket, model1)\n",
    "evaluate(bucket, model1)\n",
    "\n",
    "model2 = 'implicit.nearest_neighbours.CosineRecommender(K=200)'\n",
    "train(bucket, model2)\n",
    "evaluate(bucket, model2)\n",
    "\n",
    "select_best_model(bucket)\n",
    "\n",
    "update_server(bucket)"
   ]
  },
  {
   "cell_type": "code",
   "execution_count": 361,
   "metadata": {},
   "outputs": [],
   "source": [
    "bucket = 'LastFM-artist-recommender'\n",
    "\n",
    "s3 = boto3.client(\n",
    "    service_name='s3',\n",
    "    endpoint_url='https://s3.storage.selcloud.ru',\n",
    "    aws_access_key_id='236346_docker',\n",
    "    aws_secret_access_key='112y;8U\\K<Sh'\n",
    ")\n",
    "config = json.load(s3.get_object(Bucket=bucket, Key=f\"config.json\")['Body'])"
   ]
  },
  {
   "cell_type": "code",
   "execution_count": 366,
   "metadata": {},
   "outputs": [
    {
     "data": {
      "text/plain": [
       "'implicit.als.AlternatingLeastSquares(factors=64)'"
      ]
     },
     "execution_count": 366,
     "metadata": {},
     "output_type": "execute_result"
    }
   ],
   "source": [
    "config['ActualModel']"
   ]
  },
  {
   "cell_type": "code",
   "execution_count": 367,
   "metadata": {},
   "outputs": [],
   "source": [
    "model = pickle.load(s3.get_object(Bucket=bucket, Key=f\"models/{config['ActualModel']}.pkl\")['Body'])"
   ]
  },
  {
   "cell_type": "code",
   "execution_count": null,
   "metadata": {},
   "outputs": [],
   "source": []
  }
 ],
 "metadata": {
  "kernelspec": {
   "display_name": "LastFM-artist-recommender",
   "language": "python",
   "name": "python3"
  },
  "language_info": {
   "codemirror_mode": {
    "name": "ipython",
    "version": 3
   },
   "file_extension": ".py",
   "mimetype": "text/x-python",
   "name": "python",
   "nbconvert_exporter": "python",
   "pygments_lexer": "ipython3",
   "version": "3.10.11"
  },
  "orig_nbformat": 4
 },
 "nbformat": 4,
 "nbformat_minor": 2
}
